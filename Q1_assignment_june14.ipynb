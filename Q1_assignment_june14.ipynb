{
  "nbformat": 4,
  "nbformat_minor": 0,
  "metadata": {
    "colab": {
      "name": "Q1.assignment-june14.ipynb",
      "provenance": []
    },
    "kernelspec": {
      "name": "python3",
      "display_name": "Python 3"
    },
    "language_info": {
      "name": "python"
    }
  },
  "cells": [
    {
      "cell_type": "markdown",
      "source": [
        "# Subarrays & total score"
      ],
      "metadata": {
        "id": "KtWRk5K3lYo0"
      }
    },
    {
      "cell_type": "code",
      "execution_count": 29,
      "metadata": {
        "colab": {
          "base_uri": "https://localhost:8080/"
        },
        "id": "d0JbTWvVbWZJ",
        "outputId": "985f171b-8f38-413f-f0bf-fdedb9ef401a"
      },
      "outputs": [
        {
          "output_type": "stream",
          "name": "stdout",
          "text": [
            "Enter the list of numbers separated by spaces : 2 1 3\n",
            "['2', '1', '3']\n",
            "[2, 1, 3]\n",
            "[[2], [2, 1], [1], [2, 1, 3], [1, 3], [3]]\n",
            "[[2], [2, 1], [1], [2, 1, 3], [1, 3], [3]]\n",
            "4\n",
            "3\n",
            "1\n",
            "6\n",
            "4\n",
            "9\n",
            "27\n"
          ]
        }
      ],
      "source": [
        "points = input(\"Enter the list of numbers separated by spaces : \")\n",
        "points = points.split(\" \")\n",
        "print(points)\n",
        "#converting to integer value\n",
        "for i in range(len(points)):\n",
        "  points[i] = int(points[i])\n",
        "print(points)\n",
        "\n",
        "#creating subarrays\n",
        "subarrays = []\n",
        "for i in range(len(points)+1):\n",
        "  for j in range(i):\n",
        "    subarrays.append(points[j:i])\n",
        "\n",
        "print(subarrays)\n",
        "#subarrays.remove([])\n",
        "print(subarrays)\n",
        "\n",
        "#adding the total score\n",
        "score = 0\n",
        "for i in range(len(subarrays)):\n",
        "  minimum = min(subarrays[i])\n",
        "  summation = sum(subarrays[i])\n",
        "  product = minimum*summation\n",
        "  score += product\n",
        "  print(product)\n",
        "\n",
        "print(score)  "
      ]
    },
    {
      "cell_type": "code",
      "source": [
        ""
      ],
      "metadata": {
        "id": "TEswaHMxH-aL"
      },
      "execution_count": null,
      "outputs": []
    }
  ]
}